{
 "cells": [
  {
   "cell_type": "markdown",
   "metadata": {},
   "source": [
    "# Battle of the Neighborhoods\n",
    "\n",
    "<h2>Introduction / Business Problem</h2>\n",
    "\n",
    "The U.S. is experiencing the most significant public health crisis in decades, and the federal government's lackluster response to the COVID-19 pandemic has resulted in record level unemployment, an overwhelmed healthcare system, and economic strain disproportionately felt by small business owners. \n",
    "<br><br>\n",
    "Restaurants, bars, and breweries have been hit especially hard in 2020. The traditional restaurant business model is unsustainable under pandemic conditions. According to the Q2 2020 Yelp Economic Average report, an estimated 60% of restaurant COVID-19 closures are permanent. Those remaining now face many hurdles to simply stay open, including:\n",
    "\n",
    "<ul>\n",
    "    <li>Making unexpected investments to comply with public health requirements, including sanitation, outdoor dining, and protections for staff in the workplace.</li>\n",
    "    <li>Navigating federal economic relief paperwork.</li>\n",
    "    <li>Adapting to new restraints on capacity, hours, and services:</li>\n",
    "    <ul style=\"list-style-type: circle\">\n",
    "        <li>Indoor dining allowed at 25% capacity or 100 people, whichever is lower.</li>\n",
    "        <li>Mandated closure for on-site dining between 10 p.m. and 5 a.m.</li>\n",
    "        <li>Drive-thru, takeout and delivery service can continue at all hours.</li>\n",
    "        <li>Limiting persons sitting at a table to members of the same household.</li>\n",
    "    </ul>\n",
    "    <li>Implementing new data collection systems to comply with public health mandates, such as:</li>\n",
    "    <ul style=\"list-style-type: circle\">\n",
    "        <li>Obtaining  the name of each guest seated at a table and the telephone number of at least one guest.</li>\n",
    "        <li>Maintaining the list of names and telephone numbers for three weeks.</li>\n",
    "    </ul>\n",
    "</ul>\n",
    "\n",
    "<br>\n",
    "Similarly, bars and breweries are under operating constraints because alcohol can only be sold in the same transaction as a meal. In San Diego county, brewpubs, breweries, bars, pubs, craft distilleries, and wineries must remain closed and can only resume full operations if they are offering sit-down, dine-in meals. \n",
    "<br><br>\n",
    "Like restaurants, breweries also face the challenge of inconsistent demand. If people don’t feel safe to dine or drink indoors, then the business faces a hard time meeting their sales quotas resulting in breweries needing new distribution outlets.\n",
    "\n",
    "\n",
    "<h2>Business Plan Adaptation</h2>\n",
    "\n",
    "While many parts of the country will begin to head indoors due to colder weather, residents of Southern California enjoy a comfortable climate year-round. Business owners in this unique market have an opportunity to adapt the traditional restaurant model into an operation that combines many of the things that residents love -- dogs, the outdoors, craft beer, and good food -- while lowering overhead costs. To capitalize on these opportunities, I am proposing a new business model that would bring together a diverse offering of high-quality, food trucks colocated on the same property as a dog park. \n",
    "\n",
    "<h2>The Data</h2>\n",
    "<h5>San Diego, California Communities</h5> \n",
    "<a href=\"https://en.wikipedia.org/wiki/San_Diego_County,_California\">Source</a>\n",
    "<ul style=\"list-style-type: circle\">\n",
    "    <li>Latitude / Longitude for each community</li>\n",
    "    <li>Create a map of San Diego communities</li>\n",
    "</ul>\n",
    "<h5>Explore the communities with Foursquare data</h5>\n",
    "<ul style=\"list-style-type: circle\">\n",
    "    <li>Overlay dog parks and food trucks</li>\n",
    "    <li>Summarize the number of dog parks and food trucks for each neighborhood</li>\n",
    "    <li>Cluster communities</li>\n",
    "    <li>Examine clusters</li>\n",
    "</ul>"
   ]
  },
  {
   "cell_type": "code",
   "execution_count": null,
   "metadata": {},
   "outputs": [],
   "source": []
  }
 ],
 "metadata": {
  "kernelspec": {
   "display_name": "Python 3",
   "language": "python",
   "name": "python3"
  },
  "language_info": {
   "codemirror_mode": {
    "name": "ipython",
    "version": 3
   },
   "file_extension": ".py",
   "mimetype": "text/x-python",
   "name": "python",
   "nbconvert_exporter": "python",
   "pygments_lexer": "ipython3",
   "version": "3.7.6"
  }
 },
 "nbformat": 4,
 "nbformat_minor": 4
}
